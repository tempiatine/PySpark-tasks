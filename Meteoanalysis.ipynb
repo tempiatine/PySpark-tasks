{
  "nbformat": 4,
  "nbformat_minor": 0,
  "metadata": {
    "colab": {
      "provenance": [],
      "authorship_tag": "ABX9TyOk3ou2HnAq3oDhx+UF0UAN",
      "include_colab_link": true
    },
    "kernelspec": {
      "name": "python3",
      "display_name": "Python 3"
    },
    "language_info": {
      "name": "python"
    }
  },
  "cells": [
    {
      "cell_type": "markdown",
      "metadata": {
        "id": "view-in-github",
        "colab_type": "text"
      },
      "source": [
        "<a href=\"https://colab.research.google.com/github/tempiatine/hw_piatin/blob/main/Meteoanalysis.ipynb\" target=\"_parent\"><img src=\"https://colab.research.google.com/assets/colab-badge.svg\" alt=\"Open In Colab\"/></a>"
      ]
    },
    {
      "cell_type": "code",
      "source": [
        "# !pip install pyspark\n",
        "\n",
        "from pyspark.sql import SparkSession\n",
        "from pyspark.sql.functions import col, year, max, sum, avg, month\n",
        "\n",
        "# Создание SparkSession\n",
        "spark = SparkSession.builder.appName(\"Read CSV Meteo\").getOrCreate()\n",
        "\n",
        "# Чтение CSV-файла\n",
        "df = spark.read.csv(\"/content/sample_data/weather_data.csv\", header=True, inferSchema=True)\n",
        "\n",
        "# Выполнение SQL-запроса c топ-5 самых жарких дней\n",
        "hot_df = df.select(\"date\", \"temperature\").orderBy(col(\"temperature\").desc())\n",
        "\n",
        "# Выполнение SQL-запроса c метеостанцией с наибольшим количеством осадков за последний год\n",
        "# Находим максимальный год\n",
        "max_year = df.agg(max(year(col(\"date\")))).collect()[0][0]\n",
        "# Фильтруем DataFrame\n",
        "precip_df = df.select(\"station_id\", \"precipitation\").where(year(col(\"date\")) == max_year).groupBy('station_id').agg(sum('precipitation')).orderBy(sum('precipitation').desc())\n",
        "\n",
        "# Выполнение SQL-запроса cо средней температурой по месяцам\n",
        "avg_temp_df = df.select('date', 'temperature').groupBy(month(col(\"date\"))).agg(avg('temperature')).orderBy(month(col(\"date\")))\n",
        "\n",
        "# Показ результатов\n",
        "hot_df.show(5)\n",
        "precip_df.show(1)\n",
        "avg_temp_df.show()\n",
        "\n",
        "# Остановка SparkSession\n",
        "spark.stop()"
      ],
      "metadata": {
        "colab": {
          "base_uri": "https://localhost:8080/"
        },
        "id": "34babZqGN13z",
        "outputId": "a64198f3-3f1c-4e4d-ac8c-aed738f56b9f"
      },
      "execution_count": 37,
      "outputs": [
        {
          "output_type": "stream",
          "name": "stdout",
          "text": [
            "+----------+------------------+\n",
            "|      date|       temperature|\n",
            "+----------+------------------+\n",
            "|2021-08-20|39.982828249354846|\n",
            "|2023-12-02| 39.96797489293784|\n",
            "|2022-03-28|  39.8246894248997|\n",
            "|2019-02-11| 39.76737697836647|\n",
            "|2020-06-10| 39.69147838355929|\n",
            "+----------+------------------+\n",
            "only showing top 5 rows\n",
            "\n",
            "+----------+------------------+\n",
            "|station_id|sum(precipitation)|\n",
            "+----------+------------------+\n",
            "| station_5| 642.9302626767898|\n",
            "+----------+------------------+\n",
            "only showing top 1 row\n",
            "\n",
            "+-----------+------------------+\n",
            "|month(date)|  avg(temperature)|\n",
            "+-----------+------------------+\n",
            "|          1|11.356518462550754|\n",
            "|          2| 9.067229891101926|\n",
            "|          3| 7.244080205633994|\n",
            "|          4|12.024529009744693|\n",
            "|          5| 9.902883346912718|\n",
            "|          6|13.421092297254138|\n",
            "|          7|6.1857183016954576|\n",
            "|          8|  10.9678002814186|\n",
            "|          9| 9.596744236573942|\n",
            "|         10|  9.09884344821895|\n",
            "|         11| 7.265889994697494|\n",
            "|         12|11.218592100674337|\n",
            "+-----------+------------------+\n",
            "\n"
          ]
        }
      ]
    }
  ]
}