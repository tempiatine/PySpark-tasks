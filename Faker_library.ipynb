{
  "nbformat": 4,
  "nbformat_minor": 0,
  "metadata": {
    "colab": {
      "provenance": [],
      "authorship_tag": "ABX9TyNyQrhGb2tJ/plRyuD+Whho",
      "include_colab_link": true
    },
    "kernelspec": {
      "name": "python3",
      "display_name": "Python 3"
    },
    "language_info": {
      "name": "python"
    }
  },
  "cells": [
    {
      "cell_type": "markdown",
      "metadata": {
        "id": "view-in-github",
        "colab_type": "text"
      },
      "source": [
        "<a href=\"https://colab.research.google.com/github/tempiatine/PySpark-tasks/blob/main/faker_library.ipynb\" target=\"_parent\"><img src=\"https://colab.research.google.com/assets/colab-badge.svg\" alt=\"Open In Colab\"/></a>"
      ]
    },
    {
      "cell_type": "code",
      "execution_count": 2,
      "metadata": {
        "colab": {
          "base_uri": "https://localhost:8080/"
        },
        "id": "iJlNyygQ9rU6",
        "outputId": "064e4439-8d04-4ece-9a7c-b44225c9c745"
      },
      "outputs": [
        {
          "output_type": "stream",
          "name": "stdout",
          "text": [
            "Requirement already satisfied: faker in /usr/local/lib/python3.10/dist-packages (27.0.0)\n",
            "Requirement already satisfied: python-dateutil>=2.4 in /usr/local/lib/python3.10/dist-packages (from faker) (2.8.2)\n",
            "Requirement already satisfied: six>=1.5 in /usr/local/lib/python3.10/dist-packages (from python-dateutil>=2.4->faker) (1.16.0)\n"
          ]
        }
      ],
      "source": [
        "# Установка библиотеки Faker, предназначенной для генерации реалистичных, но фальшивых данных\n",
        "!pip install faker"
      ]
    },
    {
      "cell_type": "code",
      "source": [
        "import csv\n",
        "from faker import Faker\n",
        "import random\n",
        "\n",
        "# Создается объект Faker для генерации фейковых данных\n",
        "fake = Faker()\n",
        "\n",
        "# Задается количество генерируемых записей\n",
        "num_records = 100000\n",
        "\n",
        "# Определяются возможные значения для методов HTTP и кодов ответов\n",
        "http_methods = ['GET', 'POST', 'PUT', 'DELETE']\n",
        "response_codes = [200, 301, 404, 500]\n",
        "\n",
        "# Указывается путь к выходному CSV файлу\n",
        "file_path = \"web_server_logs.csv\"\n",
        "\n",
        "# Открывается файл для записи в режиме записи (w) с созданием новой строки при каждой записи (newline='')\n",
        "with open(file_path, mode='w', newline='') as file:\n",
        "    # Создается объект записи в CSV файл\n",
        "    writer = csv.writer(file)\n",
        "    # Записывается заголовок для CSV файла\n",
        "    writer.writerow(['ip', 'timestamp', 'method', 'url', 'response_code', 'response_size'])\n",
        "\n",
        "    # Цикл для генерации заданного количества записей\n",
        "    for _ in range(num_records):\n",
        "        # Генерируются случайные данные для каждой записи\n",
        "        ip = fake.ipv4()\n",
        "        timestamp = fake.date_time_this_year().isoformat()\n",
        "        method = random.choice(http_methods)\n",
        "        url = fake.uri_path()\n",
        "        response_code = random.choice(response_codes)\n",
        "        response_size = random.randint(100, 10000)\n",
        "\n",
        "        # Запись сгенерированной записи в CSV файл\n",
        "        writer.writerow([ip, timestamp, method, url, response_code, response_size])\n",
        "\n",
        "# Вывод сообщения об успешном завершении генерации\n",
        "print(f\"Сгенерировано {num_records} записей и сохранено в {file_path}\")"
      ],
      "metadata": {
        "colab": {
          "base_uri": "https://localhost:8080/"
        },
        "id": "9D6rwbbq_BaA",
        "outputId": "0fcf9cc7-8986-4bb8-e11a-d43d3124dcfa"
      },
      "execution_count": 4,
      "outputs": [
        {
          "output_type": "stream",
          "name": "stdout",
          "text": [
            "Сгенерировано 100000 записей и сохранено в web_server_logs.csv\n"
          ]
        }
      ]
    },
    {
      "cell_type": "code",
      "source": [],
      "metadata": {
        "id": "wtBEVkSVNhJX"
      },
      "execution_count": null,
      "outputs": []
    }
  ]
}
