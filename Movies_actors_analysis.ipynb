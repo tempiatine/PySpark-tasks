{
  "nbformat": 4,
  "nbformat_minor": 0,
  "metadata": {
    "colab": {
      "provenance": [],
      "authorship_tag": "ABX9TyNvVcTbuO4JhgR8Sc2kBFlJ",
      "include_colab_link": true
    },
    "kernelspec": {
      "name": "python3",
      "display_name": "Python 3"
    },
    "language_info": {
      "name": "python"
    }
  },
  "cells": [
    {
      "cell_type": "markdown",
      "metadata": {
        "id": "view-in-github",
        "colab_type": "text"
      },
      "source": [
        "<a href=\"https://colab.research.google.com/github/tempiatine/PySpark-tasks/blob/main/Movies_actors_analysis.ipynb\" target=\"_parent\"><img src=\"https://colab.research.google.com/assets/colab-badge.svg\" alt=\"Open In Colab\"/></a>"
      ]
    },
    {
      "cell_type": "code",
      "execution_count": 1,
      "metadata": {
        "colab": {
          "base_uri": "https://localhost:8080/"
        },
        "id": "9WiDie4VpUdO",
        "outputId": "186158a3-c325-483b-8716-49e48b118836"
      },
      "outputs": [
        {
          "output_type": "stream",
          "name": "stdout",
          "text": [
            "Collecting pyspark\n",
            "  Downloading pyspark-3.5.2.tar.gz (317.3 MB)\n",
            "\u001b[2K     \u001b[90m━━━━━━━━━━━━━━━━━━━━━━━━━━━━━━━━━━━━━━━━\u001b[0m \u001b[32m317.3/317.3 MB\u001b[0m \u001b[31m3.7 MB/s\u001b[0m eta \u001b[36m0:00:00\u001b[0m\n",
            "\u001b[?25h  Preparing metadata (setup.py) ... \u001b[?25l\u001b[?25hdone\n",
            "Requirement already satisfied: py4j==0.10.9.7 in /usr/local/lib/python3.10/dist-packages (from pyspark) (0.10.9.7)\n",
            "Building wheels for collected packages: pyspark\n",
            "  Building wheel for pyspark (setup.py) ... \u001b[?25l\u001b[?25hdone\n",
            "  Created wheel for pyspark: filename=pyspark-3.5.2-py2.py3-none-any.whl size=317812365 sha256=c7aaa02fe3500ba16fec71d1efbfdb1643eb1c12fdd73570e058557b51b1b599\n",
            "  Stored in directory: /root/.cache/pip/wheels/34/34/bd/03944534c44b677cd5859f248090daa9fb27b3c8f8e5f49574\n",
            "Successfully built pyspark\n",
            "Installing collected packages: pyspark\n",
            "Successfully installed pyspark-3.5.2\n"
          ]
        }
      ],
      "source": [
        "!pip install pyspark"
      ]
    },
    {
      "cell_type": "code",
      "source": [
        "from pyspark.sql import SparkSession\n",
        "\n",
        "# Создание SparkSession\n",
        "spark = SparkSession.builder.appName(\"Read CSV actors & movies\").getOrCreate()\n",
        "from pyspark.sql.functions import col, count, countDistinct, max\n",
        "\n",
        "# Чтение CSV-файлов\n",
        "movies_df = spark.read.csv(\"/content/sample_data/movies.csv\", header=True, inferSchema=True)\n",
        "actors_df = spark.read.csv(\"/content/sample_data/actors.csv\", header=True, inferSchema=True)\n",
        "movies_actors_df = spark.read.csv(\"/content/sample_data/movie_actors.csv\", header=True, inferSchema=True)\n",
        "\n",
        "# Регистрация DataFrame как временные таблицы\n",
        "movies_df.createOrReplaceTempView(\"movies\")\n",
        "actors_df.createOrReplaceTempView(\"actors\")\n",
        "movies_actors_df.createOrReplaceTempView(\"movie_actors\")\n",
        "\n",
        "# Выполнение SQL-запроса для нахождения топ-5 жанров по количеству фильмов\n",
        "genre_sum = spark.sql(\"\"\"\n",
        "SELECT genre, count(movie_id) as num_movies\n",
        "FROM movies\n",
        "GROUP BY genre\n",
        "ORDER BY count(movie_id) DESC\n",
        "LIMIT 5\n",
        "\"\"\")\n",
        "\n",
        "# Выполнение SQL-запроса для нахождения актера с наибольшим количеством фильмов\n",
        "max_movies_actor = spark.sql(\"\"\"\n",
        "SELECT a.name, count(DISTINCT ma.movie_id) as num_movies\n",
        "FROM movie_actors ma\n",
        "JOIN actors a\n",
        "ON ma.actor_id = a.actor_id\n",
        "GROUP BY a.name\n",
        "ORDER BY count(DISTINCT ma.movie_id) DESC\n",
        "LIMIT 1\n",
        "\"\"\")\n",
        "\n",
        "genre_avg_budget = spark.sql(\"\"\"\n",
        "SELECT genre, avg(budget) as avg_budget\n",
        "FROM movies\n",
        "GROUP BY genre\n",
        "ORDER BY avg(budget) DESC\n",
        "\"\"\")\n",
        "\n",
        "pop_country = spark.sql(\"\"\"\n",
        "SELECT m.title, a.country, count(DISTINCT ma.actor_id) as num_actors\n",
        "FROM movie_actors ma\n",
        "JOIN actors a\n",
        "ON ma.actor_id = a.actor_id\n",
        "JOIN movies m\n",
        "ON ma.movie_id = m.movie_id\n",
        "GROUP BY a.country, m.title\n",
        "HAVING num_actors > 1\n",
        "\"\"\")\n",
        "\n",
        "genre_sum.show()\n",
        "max_movies_actor.show()\n",
        "genre_avg_budget.show()\n",
        "pop_country.show()\n"
      ],
      "metadata": {
        "colab": {
          "base_uri": "https://localhost:8080/"
        },
        "id": "qmgMS9yip9GD",
        "outputId": "b74116fe-29af-4d5a-fa92-22cce1ddfaaa"
      },
      "execution_count": 17,
      "outputs": [
        {
          "output_type": "stream",
          "name": "stdout",
          "text": [
            "+------+----------+\n",
            "| genre|num_movies|\n",
            "+------+----------+\n",
            "| Drama|         6|\n",
            "|Action|         6|\n",
            "|Comedy|         4|\n",
            "|Horror|         2|\n",
            "|Sci-Fi|         2|\n",
            "+------+----------+\n",
            "\n",
            "+--------+----------+\n",
            "|    name|num_movies|\n",
            "+--------+----------+\n",
            "|Actor_24|         5|\n",
            "+--------+----------+\n",
            "\n",
            "+------+--------------------+\n",
            "| genre|          avg_budget|\n",
            "+------+--------------------+\n",
            "|Horror|      8.7281876775E7|\n",
            "|Sci-Fi|       7.809715175E7|\n",
            "| Drama| 6.076021856166667E7|\n",
            "|Comedy|     5.20709662225E7|\n",
            "|Action|2.7492742561666667E7|\n",
            "+------+--------------------+\n",
            "\n",
            "+--------+---------+----------+\n",
            "|   title|  country|num_actors|\n",
            "+--------+---------+----------+\n",
            "|Movie_15|    India|         2|\n",
            "| Movie_7|      USA|         2|\n",
            "| Movie_7|    India|         2|\n",
            "| Movie_3|      USA|         2|\n",
            "| Movie_1|    India|         2|\n",
            "|Movie_10|       UK|         2|\n",
            "|Movie_18|Australia|         2|\n",
            "|Movie_10|      USA|         2|\n",
            "+--------+---------+----------+\n",
            "\n"
          ]
        }
      ]
    }
  ]
}